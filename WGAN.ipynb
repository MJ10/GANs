{
 "cells": [
  {
   "cell_type": "code",
   "execution_count": null,
   "metadata": {
    "collapsed": true
   },
   "outputs": [],
   "source": [
    "import tensorflow as tf\n",
    "import numpy as np\n",
    "import pandas as pd\n",
    "import matplotlib\n",
    "import matplotlib.pyplot as plot"
   ]
  },
  {
   "cell_type": "code",
   "execution_count": null,
   "metadata": {},
   "outputs": [],
   "source": [
    "train_data = pd.read_csv('train.csv')\n",
    "train_data = train_data.drop('label', axis=1)\n",
    "train_data = train_data.as_matrix() / 255"
   ]
  },
  {
   "cell_type": "code",
   "execution_count": null,
   "metadata": {},
   "outputs": [],
   "source": [
    "IMAGE_SIZE = 28\n",
    "BATCH_SIZE = 32\n",
    "NUM_ITERATIONS = 10000\n",
    "HIDDEN_LAYERS_GEN = 128\n",
    "LEARNING_RATE = 1e-4"
   ]
  },
  {
   "cell_type": "code",
   "execution_count": null,
   "metadata": {},
   "outputs": [],
   "source": [
    "# Loading Batches\n",
    "epochs_completed = 0\n",
    "index_in_epoch = 0\n",
    "num_examples = train_data.shape[0]\n",
    "\n",
    "\n",
    "def next_batch(batch_size):\n",
    "    global train_data\n",
    "    global index_in_epoch\n",
    "    global epochs_completed\n",
    "    \n",
    "    start = index_in_epoch\n",
    "    index_in_epoch += batch_size\n",
    "    \n",
    "    if index_in_epoch > num_examples:\n",
    "        # finished epoch\n",
    "        epochs_completed += 1\n",
    "        # shuffle the data\n",
    "        perm = np.arange(num_examples)\n",
    "        np.random.shuffle(perm)\n",
    "        train_data = train_data[perm]\n",
    "        # start next epoch\n",
    "        start = 0\n",
    "        index_in_epoch = batch_size\n",
    "        assert batch_size <= num_examples\n",
    "    else:\n",
    "        index_in_epoch = 0\n",
    "        return next_batch(batch_size)\n",
    "    end = index_in_epoch\n",
    "    return train_data[start:end]"
   ]
  },
  {
   "cell_type": "code",
   "execution_count": null,
   "metadata": {},
   "outputs": [],
   "source": [
    "def get_sample_z(size=(1, 100)):\n",
    "    return np.random.normal(size=size)\n",
    "\n",
    "\n",
    "def display_image(image_data):\n",
    "    img = image_data.reshape([IMAGE_SIZE, IMAGE_SIZE])\n",
    "    plot.axis('off')\n",
    "    plot.imshow(img, cmap=matplotlib.cm.binary)\n",
    "    plot.show()"
   ]
  },
  {
   "cell_type": "code",
   "execution_count": null,
   "metadata": {},
   "outputs": [],
   "source": [
    "Z_in = tf.placeholder(tf.float32, shape=[None, 100])\n",
    "image_in = tf.placeholder(tf.float32, shape=[None,\n",
    "                                             IMAGE_SIZE * IMAGE_SIZE])\n",
    "\n",
    "\n",
    "def generator(z):\n",
    "    with tf.variable_scope('generator'):\n",
    "        h = tf.layers.dense(z, HIDDEN_LAYERS_GEN)\n",
    "        h = tf.minimum(h, 0.01)\n",
    "        logits = tf.layers.dense(h, IMAGE_SIZE * IMAGE_SIZE)\n",
    "        output = tf.nn.sigmoid(logits)\n",
    "        return output\n",
    "\n",
    "\n",
    "def discriminator(image, reuse=False):\n",
    "    with tf.variable_scope('discriminator', reuse=reuse):\n",
    "        h = tf.layers.dense(image, HIDDEN_LAYERS_GEN)\n",
    "        h = tf.minimum(h, 0.01)\n",
    "        logits = tf.layers.dense(h, 1)\n",
    "        return logits"
   ]
  },
  {
   "cell_type": "code",
   "execution_count": null,
   "metadata": {},
   "outputs": [],
   "source": [
    "gen_sample = generator(Z_in)\n",
    "\n",
    "discriminator_data = discriminator(image_in)\n",
    "discriminator_model = discriminator(gen_sample, reuse=True)"
   ]
  },
  {
   "cell_type": "code",
   "execution_count": null,
   "metadata": {},
   "outputs": [],
   "source": [
    "discriminator_loss = tf.reduce_mean(discriminator_data) - \\\n",
    "                     tf.reduce_sum(discriminator_model)\n",
    "\n",
    "generator_loss = -tf.reduce_mean(discriminator_model)"
   ]
  },
  {
   "cell_type": "code",
   "execution_count": null,
   "metadata": {},
   "outputs": [],
   "source": [
    "all_vars = tf.trainable_variables()\n",
    "generator_vars = [var for var in all_vars if var.name.startswith('generator')]\n",
    "discriminator_vars = [var for var in all_vars if var.name.startswith('discriminator')]\n",
    "\n",
    "discriminator_optimize = tf.train.RMSPropOptimizer(learning_rate=LEARNING_RATE)\\\n",
    "    .minimize(discriminator_loss, var_list=discriminator_vars)\n",
    "generator_optimize = tf.train.RMSPropOptimizer(learning_rate=LEARNING_RATE)\\\n",
    "    .minimize(generator_loss, var_list=generator_vars)\n",
    "\n",
    "clip_D = [p.assign(tf.clip_by_value(p, -0.01, 0.01)) for p in discriminator_vars]"
   ]
  },
  {
   "cell_type": "code",
   "execution_count": null,
   "metadata": {},
   "outputs": [],
   "source": [
    "sess = tf.InteractiveSession()\n",
    "sess.run(tf.global_variables_initializer())"
   ]
  },
  {
   "cell_type": "code",
   "execution_count": null,
   "metadata": {},
   "outputs": [],
   "source": [
    "for i in range(NUM_ITERATIONS):\n",
    "    for a in range(5):\n",
    "        image_batch = next_batch(BATCH_SIZE)\n",
    "        _, disc_loss, _ = sess.run([discriminator_optimize, discriminator_loss, clip_D], \n",
    "                                   feed_dict={Z_in: get_sample_z([BATCH_SIZE, 100]),\n",
    "                                              image_in: image_batch})\n",
    "        \n",
    "    _, gen_loss = sess.run([generator_optimize, generator_loss], \n",
    "                           feed_dict={Z_in: get_sample_z([BATCH_SIZE, 100])})\n",
    "    \n",
    "    if i % 100:\n",
    "        print('Step {} => Discriminator: {} | Generator: {}'.format(i, disc_loss, gen_loss))\n",
    "        \n",
    "        if i % 1000 == 0:\n",
    "            sample = sess.run(gen_sample, feed_dict={Z_in: get_sample_z()})\n",
    "            display_image(sample)"
   ]
  }
 ],
 "metadata": {
  "kernelspec": {
   "display_name": "Python 2",
   "language": "python",
   "name": "python2"
  },
  "language_info": {
   "codemirror_mode": {
    "name": "ipython",
    "version": 2
   },
   "file_extension": ".py",
   "mimetype": "text/x-python",
   "name": "python",
   "nbconvert_exporter": "python",
   "pygments_lexer": "ipython2",
   "version": "2.7.6"
  }
 },
 "nbformat": 4,
 "nbformat_minor": 0
}
